{
 "cells": [
  {
   "cell_type": "markdown",
   "metadata": {},
   "source": [
    "# Challenge 1\n",
    "Fill in the _____ to help the program run the function"
   ]
  },
  {
   "cell_type": "code",
   "execution_count": null,
   "metadata": {},
   "outputs": [],
   "source": [
    "_____ rectangle(x,y):\n",
    "    area = x*y\n",
    "    print(f\"The area of the rectangle is {area}.\")\n",
    "\n",
    "rect1 = rectangle(2,3)\n",
    "rect2 = _____(1,7)\n",
    "rect3 = rectangle(22,31)"
   ]
  },
  {
   "cell_type": "code",
   "execution_count": null,
   "metadata": {},
   "outputs": [],
   "source": [
    "assert rect1 == 6\n",
    "assert rect2 == 7\n",
    "assert rect3 == 682"
   ]
  },
  {
   "cell_type": "markdown",
   "metadata": {},
   "source": [
    "# Challenge 2\n",
    "Create a function that will display 4 lines of text about you and then call it."
   ]
  },
  {
   "cell_type": "code",
   "execution_count": null,
   "metadata": {},
   "outputs": [],
   "source": [
    "# add your implementation here\n"
   ]
  },
  {
   "cell_type": "markdown",
   "metadata": {},
   "source": [
    "# Challenge 3\n",
    "Create a function that take in the radius and works out the area of a circle."
   ]
  },
  {
   "cell_type": "code",
   "execution_count": null,
   "metadata": {},
   "outputs": [],
   "source": [
    "# Your implementation here\n"
   ]
  },
  {
   "cell_type": "markdown",
   "metadata": {},
   "source": [
    "# Challenge 4\n",
    "Create a function that does all of the following:\n",
    "* Selects a random card from:\n",
    "    A,2,3,4,5,6,7,8,9,10,J,Q & K\n",
    "* Selects a random suit from:\n",
    "    ♥, ♠, ♦ & ♣\n",
    "* Displays →\n",
    "    Your random card is [card][suit]\n",
    "* Gives the user the choice to pick another card or to end the programme.\n"
   ]
  },
  {
   "cell_type": "code",
   "execution_count": null,
   "metadata": {},
   "outputs": [],
   "source": [
    "suits=['\\u2660', '\\u2665', '\\u2663', '\\u2666']\n",
    "cards = [\"A\" ,2,3,4,5,6,7,8,9,10, \"J\", \"Q\", \"K\"]\n",
    "\n"
   ]
  }
 ],
 "metadata": {
  "kernelspec": {
   "display_name": "Python 3",
   "language": "python",
   "name": "python3"
  },
  "language_info": {
   "codemirror_mode": {
    "name": "ipython",
    "version": 3
   },
   "file_extension": ".py",
   "mimetype": "text/x-python",
   "name": "python",
   "nbconvert_exporter": "python",
   "pygments_lexer": "ipython3",
   "version": "3.12.4"
  }
 },
 "nbformat": 4,
 "nbformat_minor": 2
}
