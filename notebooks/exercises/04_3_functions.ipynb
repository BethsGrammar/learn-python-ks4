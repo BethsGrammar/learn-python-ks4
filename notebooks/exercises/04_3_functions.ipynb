{
 "cells": [
  {
   "cell_type": "markdown",
   "metadata": {},
   "source": [
    "# ⭕'s & ❌'s"
   ]
  },
  {
   "cell_type": "code",
   "execution_count": null,
   "metadata": {},
   "outputs": [],
   "source": [
    "board = [\n",
    "    [\"x\",\"\",\"\"],\n",
    "    [\"\",\"\",\"\"],\n",
    "    [\"\",\"\",\"o\"]\n",
    "]\n",
    "game_finished = False"
   ]
  },
  {
   "cell_type": "markdown",
   "metadata": {},
   "source": [
    "## Task 1\n",
    "Write a procedure called `check_board` to check if any player has won the game.\n",
    "\n",
    "This could be in the form of a horizontal, a vertical or a diagonal line."
   ]
  },
  {
   "cell_type": "code",
   "execution_count": null,
   "metadata": {},
   "outputs": [],
   "source": [
    "# add your sub-routine below here\n"
   ]
  },
  {
   "cell_type": "markdown",
   "metadata": {},
   "source": [
    "## Task 2\n",
    "Write a procedure called `make_move` that passes through an argument (a position on the board)\n",
    "\n",
    "If a play has already been played in that position, it must repeat asking the question until a valid input is given."
   ]
  },
  {
   "cell_type": "code",
   "execution_count": null,
   "metadata": {},
   "outputs": [],
   "source": [
    "def ____(____):\n",
    "    pass"
   ]
  },
  {
   "cell_type": "markdown",
   "metadata": {},
   "source": [
    "## Task 3 \n",
    "The CPU needs to play moves automaically. The instructions [are here](https://images.ctfassets.net/pc40tpn1u6ef/file-211046/f7a241894c4886009e49c48ad895b2c6/L6-_Intelligient_Paper_Algorithms.png). Write a function so that the CPU follows these instructions."
   ]
  },
  {
   "cell_type": "code",
   "execution_count": null,
   "metadata": {},
   "outputs": [],
   "source": [
    "# intelligent sheet of paper function\n",
    "def cpu_move():\n",
    "    pass"
   ]
  },
  {
   "cell_type": "markdown",
   "metadata": {},
   "source": [
    "## Task 4\n",
    "now write a while loop that asks the user to input moves against the CPU.\n",
    "After every input, the program should call the `make_move` procedure followed by the `check_board` function.\n",
    "If the game is finished, the game should end, congratulating or giving commiserations to the player.\n",
    "\n",
    "[hang code](https://pastebin.com/LifL2R1A)"
   ]
  },
  {
   "cell_type": "code",
   "execution_count": null,
   "metadata": {},
   "outputs": [],
   "source": [
    "# Your implementation here\n"
   ]
  },
  {
   "cell_type": "markdown",
   "metadata": {},
   "source": [
    "## Task 5\n",
    "Lastly, the cpu keeps either winning or drawing. There's no winning the CPU!\n",
    "\n",
    "Edit your code on task 3, adding a new function called `simple_cpu`. rather than follow the intelligent sheet of paper, the new function will randomly select a position from a row and a column until an empty position is selected from the `board`.\n",
    "\n",
    "Edit your code on task 4 so that the user is asked if they want to play an *easy* or *impossible* game.\n",
    "\n",
    "If the user has chosen *easy*, the program should play CPU moves from the new `simple_cpu` function."
   ]
  }
 ],
 "metadata": {
  "kernelspec": {
   "display_name": "Python 3",
   "language": "python",
   "name": "python3"
  },
  "language_info": {
   "codemirror_mode": {
    "name": "ipython",
    "version": 3
   },
   "file_extension": ".py",
   "mimetype": "text/x-python",
   "name": "python",
   "nbconvert_exporter": "python",
   "pygments_lexer": "ipython3",
   "version": "3.12.4"
  }
 },
 "nbformat": 4,
 "nbformat_minor": 2
}
