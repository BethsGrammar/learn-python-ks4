{
 "cells": [
  {
   "cell_type": "markdown",
   "id": "409a2a65",
   "metadata": {},
   "source": [
    "# Lesson 1: Introduction to Python\n",
    "### Practice Exercises\n",
    "\n",
    "Follow the instructions in each cell to test your understanding of today's lesson.\n",
    "**Remember:** To run a cell in a real Jupyter Notebook, click on the cell and press `Shift + Enter`.\n",
    "\n",
    "---\n",
    "\n",
    "### A Note on `assert`\n",
    "\n",
    "After you complete each exercise, you'll see a code block with an `assert` command. This command is a simple test that checks if a condition is `True`.\n",
    "\n",
    "* If the condition is `True`, nothing happens and the test passes.\n",
    "* If the condition is `False`, the program stops and shows an `AssertionError`.\n",
    "\n",
    "Your goal is to write code that makes all the `assert` tests pass!"
   ]
  },
  {
   "cell_type": "markdown",
   "id": "59ea3a6c",
   "metadata": {},
   "source": [
    "### Exercise 1: Basic Printing and Variables\n",
    "\n",
    "1.  Create a variable called `favourite_colour` and set its value to a string of your favourite colour.\n",
    "2.  Create a variable called `lucky_number` and set its value to a number between 1 and 100.\n",
    "3.  On a new line, print the value of `favourite_colour`.\n",
    "4.  On another new line, print the value of `lucky_number`."
   ]
  },
  {
   "cell_type": "code",
   "execution_count": null,
   "id": "be00df3e",
   "metadata": {},
   "outputs": [],
   "source": [
    "# Your code goes here:\n",
    "\n",
    "\n",
    "\n",
    "# --- Test ---\n",
    "assert isinstance(favourite_colour, str), \"Error: favourite_colour should be a string.\"\n",
    "assert isinstance(lucky_number, int) or isinstance(lucky_number, float), \"Error: lucky_number should be a number.\"\n",
    "print(\"Exercise 1 Test Passed!\")"
   ]
  },
  {
   "cell_type": "markdown",
   "id": "91141660",
   "metadata": {},
   "source": [
    "### Exercise 2: Multiple Lines with `\\n`\n",
    "In the cell below, create a **single variable** called `rhyme_lines` that contains the following three lines as a single string, using the `\\n` escape code:\n",
    "\"I am learning Python.\"\n",
    "\"It is fun and interesting.\"\n",
    "\"I can't wait to build a program!\"\n",
    "Then, print the `rhyme_lines` variable."
   ]
  },
  {
   "cell_type": "code",
   "execution_count": null,
   "id": "04c4acff",
   "metadata": {},
   "outputs": [],
   "source": [
    "# Your code goes here:\n",
    "\n",
    "\n",
    "\n",
    "# --- Test ---\n",
    "expected_output = \"I am learning Python.\\nIt is fun and interesting.\\nI can't wait to build a program!\"\n",
    "assert rhyme_lines == expected_output, \"Error: The string does not match the expected format.\"\n",
    "print(\"Exercise 2 Test Passed!\")"
   ]
  },
  {
   "cell_type": "markdown",
   "id": "af3a35a1",
   "metadata": {},
   "source": [
    "### Exercise 3: Using Triple Quotes\n",
    "In the cell below, create a **single variable** called `poem` and set its value to a multi-line string using triple quotes. The poem should be at least 3 lines long.\n",
    "\n",
    "Then, print the `poem` variable."
   ]
  },
  {
   "cell_type": "code",
   "execution_count": null,
   "id": "c60a8057",
   "metadata": {},
   "outputs": [],
   "source": [
    "# Your code goes here:\n",
    "\n",
    "\n",
    "# --- Test ---\n",
    "assert isinstance(poem, str), \"Error: The poem variable should be a string.\"\n",
    "assert len(poem.strip().splitlines()) >= 3, \"Error: The poem should have at least 3 lines.\"\n",
    "print(\"Exercise 3 Test Passed!\")"
   ]
  },
  {
   "cell_type": "markdown",
   "id": "2e4040ee",
   "metadata": {},
   "source": [
    "### Exercise 4: Variables and Constants\n",
    "1.  Create a variable called `my_age` and set its value to your current age.\n",
    "2.  Create a constant called `DAYS_IN_WEEK` and set its value to `7`.\n",
    "3.  On a new line, print the value of `my_age`.\n",
    "4.  On another new line, print the value of `DAYS_IN_WEEK`."
   ]
  },
  {
   "cell_type": "code",
   "execution_count": null,
   "id": "317a1205",
   "metadata": {},
   "outputs": [],
   "source": [
    "# Your code goes here:\n",
    "\n",
    "\n",
    "# --- Test ---\n",
    "assert my_age > 0, \"Error: Your age must be a positive number.\"\n",
    "assert DAYS_IN_WEEK == 7, \"Error: The value of DAYS_IN_WEEK is incorrect.\"\n",
    "assert DAYS_IN_WEEK == 7, \"Error: The value of DAYS_IN_WEEK is incorrect.\"\n",
    "print(\"Exercise 4 Test Passed!\")"
   ]
  },
  {
   "cell_type": "markdown",
   "id": "ad04e6e4",
   "metadata": {},
   "source": [
    "### Exercise 5: Basic Math\n",
    "1.  Create a variable called `apples` and set its value to `10`.\n",
    "2.  Create a variable called `oranges` and set its value to `5`.\n",
    "3.  Create a new variable called `total_fruit` that is the sum of `apples` and `oranges`.\n",
    "4.  Print the value of `total_fruit`.\n",
    "5.  Create a new variable called `product` that is the result of multiplying `25` by `3`.\n",
    "6.  Print the value of `product`."
   ]
  },
  {
   "cell_type": "code",
   "execution_count": null,
   "id": "80423ced",
   "metadata": {},
   "outputs": [],
   "source": [
    "# Your code goes here:\n",
    "\n",
    "\n",
    "# --- Test ---\n",
    "assert total_fruit == 15, \"Error: total_fruit should be 15.\"\n",
    "assert product == 75, \"Error: product should be 75.\"\n",
    "print(\"Exercise 5 Test Passed!\")"
   ]
  }
 ],
 "metadata": {
  "language_info": {
   "name": "python"
  }
 },
 "nbformat": 4,
 "nbformat_minor": 5
}
