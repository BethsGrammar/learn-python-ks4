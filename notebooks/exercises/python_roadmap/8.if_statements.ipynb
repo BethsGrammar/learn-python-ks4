{
 "cells": [
  {
   "cell_type": "markdown",
   "id": "7b99b7e1",
   "metadata": {},
   "source": [
    "# If Statements\n",
    "So far everything we have done has been basic sequencing. What I mean is, 1 line of code is decoded and then the next and then the next.\n",
    "\n",
    "We need computers to be able to make decisions based on the criteria we give them. This is paramount to everything computing. eg.\n",
    "\n",
    "- A fire alarm going off IF smoke is detected\n",
    "- A notification pinging IF you get a message\n",
    "- and the list could go on\n",
    "### Complete all the tasks below\n",
    "The tasks use *f-strings*"
   ]
  },
  {
   "cell_type": "markdown",
   "id": "6c1bff89",
   "metadata": {},
   "source": [
    "## Task 1"
   ]
  },
  {
   "cell_type": "code",
   "execution_count": null,
   "id": "114cc5fe",
   "metadata": {
    "vscode": {
     "languageId": "plaintext"
    }
   },
   "outputs": [],
   "source": [
    "a = 10\n",
    "b = 1\n",
    "c = 2.3\n",
    "d = \"The Powlees\"\n",
    "\n",
    "# if a more than b output f\"{a} is more than {b}\", otherwise output\n",
    "\n",
    "\n",
    "# if b add c is less than 3, then output \"under 3\". Otherwise output \"not under 3.\"\n",
    "\n",
    "e = str(a-b)*3\n",
    "question = input(\"Are Computing lessons Fun?\")\n",
    "# if question is equal to \"yes\", then output \n",
    "# \"Thou hath spokeneth the truth!\". Otherwise output,\n",
    "# \"Dial {e}. Your lies need to be reported to {d}.\""
   ]
  },
  {
   "cell_type": "markdown",
   "id": "e6d0e3e9",
   "metadata": {},
   "source": [
    "## Task 2\n",
    "This idea is taken from the first problem on https://projecteuler.net/problem=1\n",
    "\n",
    "The problem there is a much larger one. I want you to try solve it on a much smaller scale for now. You will come back to the actual challenge once you're covering iteration methods.\n",
    "\n",
    "If you remember, you learned about the modulu operator to see if a division had a remainder.\n",
    "\n",
    "so 5%2 would leave a remainder of 1. Since the remainder is not 0, it means that 5 is not a multiple of 2.\n",
    "\n",
    "In this task you need to write an if statement for every number from 1 to 10.\n",
    "Test if the number is a multiple of 3. If it is then print that the number is a multiple of 3. If not, print that it is not a multiple of 3.\n",
    "\n",
    "This is all tedious work. You will learn how to simplify it later and write all this more efficiently."
   ]
  },
  {
   "cell_type": "code",
   "execution_count": null,
   "id": "ee23bd95",
   "metadata": {
    "vscode": {
     "languageId": "plaintext"
    }
   },
   "outputs": [],
   "source": [
    "# here is a prompt for the 1st if statement of 10\n",
    "\n",
    "\n",
    "# write the first line here to test if 1 is a multiple of 3\n",
    "\n",
    "# if true, print(\"1 is a multiple of 3\")\n",
    "\n",
    "# otherwise print(\"1 is not a multiple of 3\")"
   ]
  },
  {
   "cell_type": "markdown",
   "id": "2ae11856",
   "metadata": {},
   "source": [
    "## Task 3\n",
    "Go back to task 2 add a variable called threes_total like below\n",
    "```python \n",
    "threes_total = 0\n",
    "```\n",
    "\n",
    "now each time a number is a multiple of 3 add the number to the threes_total\n",
    "eg\n",
    "```python\n",
    "if num % 3:\n",
    "    # whatever you were going to print & add this below\n",
    "    threes_total equals threes_total plus num\n",
    "```\n",
    "finally check if `three_total` is a multiple of 3 in an if statement"
   ]
  }
 ],
 "metadata": {
  "language_info": {
   "name": "python"
  }
 },
 "nbformat": 4,
 "nbformat_minor": 5
}
