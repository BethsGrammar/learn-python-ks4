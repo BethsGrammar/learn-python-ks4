{
 "cells": [
  {
   "cell_type": "markdown",
   "id": "1f0ae6ce",
   "metadata": {},
   "source": [
    "# Elif Statements\n",
    "\n",
    "## Task 1 - 🌡️\n",
    "Look at the example given below:\n",
    "\n",
    "```python\n",
    "goals = int(input(\"How many did arsenal score last night?\"))\n",
    "\n",
    "if goals == 0:\n",
    "  print(\"Arsenlol always make me laugh 😂\")\n",
    "elif goals >=1 or goals <=2:\n",
    "  print(\"its nice to see they score a few\")\n",
    "elif goals >2 or goals <5:\n",
    "  print(\"It sounds like it may have been an exciting game\")\n",
    "else:\n",
    "  print(\"Wow! Arsenal must have thrashed the other team\")\n",
    "```\n",
    "\n",
    "You will need to write a similar program for the scenario below:\n",
    "\n",
    "Aisha wants to input today’s weather forecast into a program she is writing. She wants the program to give a comment based on the temperature.\n",
    "\n",
    "- if the temperature is less than 0, the program should output → \"it may be safer to stay in\"\n",
    "- if the temperature is between 0 and 5 → \"It will be freezing today\"\n",
    "- if the temperature is between 6 and 10 → \"It will be quite chilly today\"\n",
    "- if between 11 and 18 → \"it will be a mild day\"\n",
    "- if between 18 and 25 → \"The temperature will be very hot today, remember sunscreen!\"\n",
    "- and for all other temperatures output → \"It will be scorchio!\"\n"
   ]
  },
  {
   "cell_type": "code",
   "execution_count": null,
   "id": "4c979b66",
   "metadata": {},
   "outputs": [],
   "source": [
    "# Add your answer here"
   ]
  },
  {
   "cell_type": "markdown",
   "id": "6069df96",
   "metadata": {},
   "source": [
    "## Task 2 - 🪨📃✂️\n",
    "The code below is the starter code for the game Rock, Paper, Scissors. Complete the conditional statements to make the game work.\n"
   ]
  },
  {
   "cell_type": "code",
   "execution_count": null,
   "id": "a55b43a9",
   "metadata": {},
   "outputs": [],
   "source": [
    "from random import choice\n",
    "\n",
    "choices = [\"rock\", \"paper\", \"scissors\"]\n",
    "\n",
    "player = input(\"Enter a choice from rock, paper or scissors\\n\")\n",
    "cpu = choice(choices) # this selects a random choice from the list above\n",
    "\n",
    "print(f\"The cpu chose {cpu}\")\n",
    "\n",
    "if player == \"rock\" and cpu == \"scissors\":\n",
    "\tprint(\"you win\")"
   ]
  },
  {
   "cell_type": "markdown",
   "id": "84f75584",
   "metadata": {},
   "source": [
    "## Task 3 - 🪨📃✂️🦎🖖🏼\n",
    "Here's a link to the rules: https://bitfez.notion.site/Task-Rock-Paper-Scissors-Lizard-Spock-1d4b4acf7f3943ebb812da625372ffd4 \n",
    "\n",
    "Complete the code below for the new version of the game"
   ]
  },
  {
   "cell_type": "code",
   "execution_count": null,
   "id": "9231e708",
   "metadata": {},
   "outputs": [],
   "source": [
    "from random import choice\n",
    "\n",
    "choices = [\"rock\",\"paper\",\"scissors\",\"lizard\",\"spock\"]\n",
    "\n",
    "player = input(\"Enter a choice from rock, paper, scissors, lizard or spock\\n\")\n",
    "cpu = choice(choices)\n",
    "\n",
    "print(f\"The cpu chose {cpu}\")\n",
    "\n",
    "if player == \"rock\" and cpu == \"scissors\":\n",
    "\tprint(\"you win\")"
   ]
  },
  {
   "cell_type": "markdown",
   "id": "1c0cc422",
   "metadata": {},
   "source": [
    "## Task 4 - 📈📉\n",
    "In this scenario, Lilly has set up a Python script that will output a message based on the price of mulaCoin every morning compared to the price the night before so that she can see what happened to her investments while she was asleep.\n",
    "\n",
    "if the price has decreased/increased less than 5%, then it should output --> 'only a slight variation in price'\n",
    "\n",
    "if the price has increased by more than 5% output --> 'you are making a profit today.'\n",
    "\n",
    "if the price has increased by more than 20% output --> 'you are making a profit today. Maybe cash out.'\n",
    "\n",
    "if the price has decreased by more than 10% output --> 'I don't mean to alarm you but your investment is tanking today'"
   ]
  },
  {
   "cell_type": "code",
   "execution_count": null,
   "id": "252ae100",
   "metadata": {},
   "outputs": [],
   "source": [
    "mulaCoinPM = 1.26\n",
    "mulaCoinAM = 1.28\n",
    "# Code your solution below\n"
   ]
  },
  {
   "cell_type": "markdown",
   "id": "2ce3920a",
   "metadata": {},
   "source": [
    "## Task 5 - 💬🗣️🗨️\n",
    "Simon runs a Discord server for Lord of the Rings fans. Roles are assigned based on level of xp. \n",
    "- if xp is 0 to 100 - role is 'Filthy Orc'\n",
    "- if xp is 101 to 200 - role is 'Vile Uruk-hai'\n",
    "- if xp is 201 to 300 - role is  'Fearsome Balrog'\n",
    "- if xp is 301 to 400 - role is 'Noble Hobbit'\n",
    "- if xp is 401 to 500 - role is 'Brave Dwarf'\n",
    "- if xp is 501 to 600 - role is 'Faliable Man'\n",
    "- if xp is 601 to 700 - role is 'Nimble Elf'\n",
    "- if xp is > 701 - role is 'Powerful Maiar'\n",
    "\n",
    "Using elif statements, set the role correctly based on xp"
   ]
  },
  {
   "cell_type": "code",
   "execution_count": null,
   "id": "fd29597f",
   "metadata": {},
   "outputs": [],
   "source": [
    "xp = 532\n",
    "role = \"\"\n",
    "\n"
   ]
  }
 ],
 "metadata": {
  "language_info": {
   "name": "python"
  }
 },
 "nbformat": 4,
 "nbformat_minor": 5
}
