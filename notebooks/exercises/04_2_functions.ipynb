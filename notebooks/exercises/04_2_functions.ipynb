{
 "cells": [
  {
   "cell_type": "markdown",
   "metadata": {},
   "source": [
    "# Task 1\n",
    "Write a function called `age_verification` that passes through an argument (the user’s age)\n",
    "If the user is below 18, it must state that they are too young, otherwise display that they are old enough to watch the movie."
   ]
  },
  {
   "cell_type": "code",
   "execution_count": null,
   "metadata": {},
   "outputs": [],
   "source": [
    "def age_verification(age):\n",
    "    pass"
   ]
  },
  {
   "cell_type": "markdown",
   "metadata": {},
   "source": [
    "# Task 2\n",
    "If you remember last module we programmed a times table.\n",
    "This task involves writing a times table like the one we did before.\n",
    "In this example a number is passed through the function.\n",
    "The function than creates a 10 times table with that number\n",
    "\n",
    "output should be \n",
    "\n",
    "1 x 1 = 1\n",
    "\n",
    "1 x 2 = 2\n",
    "\n",
    "etc"
   ]
  },
  {
   "cell_type": "code",
   "execution_count": null,
   "metadata": {},
   "outputs": [],
   "source": [
    "# add your implementation here\n"
   ]
  },
  {
   "cell_type": "markdown",
   "metadata": {},
   "source": [
    "# Challenge 3\n",
    "I have prewritten a code for you.\n",
    "All you have to do is comment each section of the code to explain what it does.\n",
    "\n",
    "\n",
    "[hang code](https://pastebin.com/LifL2R1A)"
   ]
  },
  {
   "cell_type": "code",
   "execution_count": null,
   "metadata": {},
   "outputs": [],
   "source": [
    "# Your implementation here\n"
   ]
  },
  {
   "cell_type": "markdown",
   "metadata": {},
   "source": [
    "# Task 4\n",
    "Write a function to convert temperatures from Fahrenheit to Celsius. The function should take one integer parameter (the temperature in Fahrenheit) and return a real/float result (the temperature in Celsius). The formula for conversion is:\n",
    "\n",
    "Centigrade = ( Fahrenheit – 32 ) * ( 5/9 )\n",
    "\n",
    "[helpsheet](https://drive.google.com/open?id=1VrB8DVuUMmwNJsFMIB0OxMly5w3I1vcL)\n"
   ]
  },
  {
   "cell_type": "code",
   "execution_count": null,
   "metadata": {},
   "outputs": [],
   "source": [
    "suits=['\\u2660', '\\u2665', '\\u2663', '\\u2666']\n",
    "cards = [\"A\" ,2,3,4,5,6,7,8,9,10, \"J\", \"Q\", \"K\"]\n",
    "\n"
   ]
  }
 ],
 "metadata": {
  "kernelspec": {
   "display_name": "Python 3",
   "language": "python",
   "name": "python3"
  },
  "language_info": {
   "codemirror_mode": {
    "name": "ipython",
    "version": 3
   },
   "file_extension": ".py",
   "mimetype": "text/x-python",
   "name": "python",
   "nbconvert_exporter": "python",
   "pygments_lexer": "ipython3",
   "version": "3.12.4"
  }
 },
 "nbformat": 4,
 "nbformat_minor": 2
}
